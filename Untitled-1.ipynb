{
 "cells": [
  {
   "cell_type": "code",
   "execution_count": null,
   "metadata": {
    "vscode": {
     "languageId": "plaintext"
    }
   },
   "outputs": [],
   "source": [
    "'''\n",
    "Author:Nicole Agnel Paikkatt\n",
    "SID:520617829\n",
    "Unikey:npai5889\n",
    "'''"
   ]
  },
  {
   "cell_type": "code",
   "execution_count": null,
   "metadata": {
    "vscode": {
     "languageId": "plaintext"
    }
   },
   "outputs": [],
   "source": [
    "import math\n",
    "while True:\n",
    "        ans = input(\"Please enter your name: \")\n",
    "        task1 = ans.replace(\" \",\"\").isalpha()\n",
    "        if (task1):\n",
    "            print(\"\")\n",
    "            break\n",
    "        else:\n",
    "            print(\"Error: Only accept alphabetical characters and spaces for name\\n\")\n",
    "#You just replaced the space with an empty string and checked for alphabets\n"
   ]
  },
  {
   "cell_type": "code",
   "execution_count": null,
   "metadata": {
    "vscode": {
     "languageId": "plaintext"
    }
   },
   "outputs": [],
   "source": [
    "while True:\n",
    "        ans1 = input(\"Please enter your age: \")\n",
    "        try:\n",
    "            float((ans1)).is_integer()\n",
    "            if int(ans1) <= 110 and int(ans1) >= 0:\n",
    "                print(\"\")\n",
    "                break\n",
    "            else:\n",
    "                print(\"Error: The age is a number between 0 to 110\\n\")\n",
    "\n",
    "        except ValueError:\n",
    "            print(\"Error: The age is a number between 0 to 110\\n\")\n",
    "#You only accept float values and check if they are an integer and then output errror in all other cases\n"
   ]
  },
  {
   "cell_type": "code",
   "execution_count": null,
   "metadata": {
    "vscode": {
     "languageId": "plaintext"
    }
   },
   "outputs": [],
   "source": [
    "while True:\n",
    "        ans2 = input(\"Please enter your biological sex (female/male): \")\n",
    "        if ans2 == \"female\" or ans2 == \"male\":\n",
    "            print(\"\")\n",
    "            break\n",
    "        else:\n",
    "            print(\"Error: Please enter valid input\\n\")\n",
    "#self explanatory\n"
   ]
  },
  {
   "cell_type": "code",
   "execution_count": null,
   "metadata": {
    "vscode": {
     "languageId": "plaintext"
    }
   },
   "outputs": [],
   "source": [
    "while True:\n",
    "        ans3 = input(\"What do you want to get out of your training? \\n\"+\n",
    "            \"    1. Your goal is losing weight\\n\"+\n",
    "            \"    2. Your goal is to staying calm and relax\\n\"+\n",
    "            \"    3. Your goal is increasing your heart rate\\n\"+\n",
    "            \"    4. Your goal is having stronger legs\\n\"+\n",
    "            \"    5. Your goal is having stronger ABS\\n\"+\n",
    "            \"    6. Your goal is having stronger shoulders and arms\\n\"+\n",
    "            \"Choose a number between 1 to 6: \")\n",
    "        try:\n",
    "            float((ans3)).is_integer()\n",
    "            if int(ans3) <= 6 and int(ans3) >= 1:\n",
    "                print(\"\")\n",
    "                break\n",
    "            else:\n",
    "                print(\"Error - It can only be a number between 1 to 6\\n\")\n",
    "\n",
    "        except ValueError:\n",
    "            print(\"Error - It can only be a number between 1 to 6\\n\")\n",
    "#Same as age"
   ]
  },
  {
   "cell_type": "code",
   "execution_count": null,
   "metadata": {
    "vscode": {
     "languageId": "plaintext"
    }
   },
   "outputs": [],
   "source": [
    "while True :\n",
    "        ans4 = input(\"How many days per week you can train: \")\n",
    "        try:\n",
    "            float((ans4)).is_integer()\n",
    "            if int(ans4) <= 7 and int(ans4) >= 1:\n",
    "                print(\"\")\n",
    "                break\n",
    "            else:\n",
    "                print(\"Error: It can only be a number between 1 to 7\\n\")\n",
    "\n",
    "        except ValueError:\n",
    "            print(\"Error: It can only be a number between 1 to 7\\n\")\n",
    "#Same as age\n",
    "\n",
    "print(\"Hello \" + ans +\"!\" + \" Here is your training:\")\n"
   ]
  },
  {
   "cell_type": "code",
   "execution_count": null,
   "metadata": {
    "vscode": {
     "languageId": "plaintext"
    }
   },
   "outputs": [],
   "source": [
    "n = 0\n",
    "p=0\n",
    "m=0\n",
    "l=0\n",
    "o=0\n",
    "#initialising variable for counting perct increase each year above given age criteria \n",
    "a=15\n",
    "b=20\n",
    "c=10\n",
    "d=2\n",
    "e=3\n",
    "f=12\n",
    "g=18\n",
    "#Assign values given in readme.md file to variables\n",
    "while int(ans1)<=60:\n",
    "    s=a\n",
    "    t=b\n",
    "    u=c\n",
    "    v=d\n",
    "    w=e\n",
    "    x=f\n",
    "    y=g\n",
    "    break\n",
    "#For all ages below 60 and 60 you kept normal values    \n"
   ]
  },
  {
   "cell_type": "code",
   "execution_count": null,
   "metadata": {
    "vscode": {
     "languageId": "plaintext"
    }
   },
   "outputs": [],
   "source": [
    "while int(ans1)>60 and int(ans1)<=65:\n",
    "    p= 0.01#add 0.01 everytime a condition is met\n",
    "    age1 = int(ans1) - 60#gives difference between input age and age criteria in this case 60\n",
    "    s= (a - age1 * a * p)#just a formula which reduces intensity example: rep - diff*reps*perct decrease\n",
    "    t= (b - age1 * b * p)\n",
    "    u= (c - age1 * c * p)\n",
    "    v= (d - age1 * d * p)\n",
    "    w= (e - age1 * e * p)\n",
    "    x= (f - age1 * f * p)\n",
    "    y= (g - age1 * g * p)\n",
    "    break\n",
    "\n",
    "while int(ans1)>65 and int(ans1)<=75:#same logic as above\n",
    "    m = 0.02\n",
    "    age2 = int(ans1) - 65\n",
    "    s= (a -  a* 0.05  - age2 * a * m)\n",
    "    t= (b -  b * 0.05 - age2 * b * m)\n",
    "    u= (c -  c * 0.05 - age2 * c * m)\n",
    "    v= (d - d * 0.05 - age2 * d * m)\n",
    "    w= (e - e * 0.05 - age2 * e * m)\n",
    "    x= (f - f * 0.05 - age2 * f * m)\n",
    "    y= (g -  g * 0.05 - age2 * g * m)\n",
    "    break\n",
    "\n",
    "while int(ans1)>75 and int(ans1)<=80:#same logic as above\n",
    "    l = 0.03\n",
    "    age3 = int(ans1) - 75\n",
    "    s= (a -  a* 0.25  - age3 * a * l)\n",
    "    t= (b -  b * 0.25 - age3 * b * l)\n",
    "    u= (c -  c * 0.25 - age3 * c * l)\n",
    "    v= (d - d * 0.25 - age3* d * l)\n",
    "    w= (e - e * 0.25 - age3 * e * l)\n",
    "    x= (f - f * 0.25 - age3 * f * l)\n",
    "    y= (g -  g * 0.25 - age3 * g *l )\n",
    "    break\n",
    "\n",
    "while int(ans1)>80:#basically you allow the same logic as above to work only if the difference in input age and age criteria is less or equal 10\n",
    "    o= 0.04#because 80perct reduction happens if input age equals 90\n",
    "    age4 = int(ans1) - 80\n",
    "    if age4<=10:\n",
    "        s= (a -  a* 0.4  - age4 * a * o)\n",
    "        t= (b -  b * 0.4 - age4 * b * o)\n",
    "        u= (c -  c * 0.4 - age4 * c * o)\n",
    "        v= (d - d * 0.4- age4 * d * o)\n",
    "        w= (e - e * 0.4 - age4 * e * o)\n",
    "        x= (f - f * 0.4 - age4 * f * o)\n",
    "        y= (g -  g * 0.4 - age4 * g *o)\n",
    "    else: #otherwise for values with difference more than 10 you print out only an 80 perct reduction in reps/mins\n",
    "        s= (a -  a* 0.8)\n",
    "        t= (b -  b * 0.8)\n",
    "        u= (c -  c * 0.8)\n",
    "        v= (d - d * 0.8)\n",
    "        w= (e - e * 0.8)\n",
    "        x= (f - f * 0.8)\n",
    "        y= (g -  g * 0.8)\n",
    "    break"
   ]
  },
  {
   "cell_type": "code",
   "execution_count": null,
   "metadata": {
    "vscode": {
     "languageId": "plaintext"
    }
   },
   "outputs": [],
   "source": [
    "while n<int(ans4) :#don't worry just makes the loop run for all days from 1 to input number of days\n",
    "        n += 1\n",
    "   \n",
    "        if n % 2 != 0:#for odd days you give output based on choice of type of workout\n",
    "\n",
    "            if int(ans3) == 1 :#self explanatory\n",
    "                    print(f'''-------------------------------------------------------------------------------------\n",
    "Day {str(n)}\n",
    "Gym workout for fat loss\n",
    "\n",
    "Plate thrusters ({math.ceil(s)} reps x 3 sets)\n",
    "Mountain climbers ({math.ceil(t)} reps x 3 sets)\n",
    "Box jumps ({math.ceil(u)} reps x 3 sets)\n",
    "Lunges ({math.ceil(u)} reps x 3 sets)\n",
    "Renegade rows ({math.ceil(u)} reps x 3 sets)\n",
    "Press ups ({math.ceil(s)} reps x 3 sets)\n",
    "Treadmill ({math.ceil(u)} mins x 3 sets)\n",
    "Supermans ({math.ceil(u)} reps x 3 sets)\n",
    "Crunches ({math.ceil(u)} reps x 3 sets)''')\n",
    "#variables in front of reps and mins to vary intesity based on age\n",
    "            elif int(ans3) == 2 :\n",
    "                print(f'''-------------------------------------------------------------------------------------\n",
    "Day {str(n)}\n",
    "Gym workout for stretch and relax\n",
    "\n",
    "Quad stretchs ({math.ceil(v)} mins x 3 sets)\n",
    "Hamstring stretchs ({math.ceil(v)} mins x 3 sets)\n",
    "Chest and shoulder stretchs ({math.ceil(v)} mins x 2 sets)\n",
    "Upper back stretchs ({math.ceil(w)} mins x 2 sets)\n",
    "Biceps stretchs ({math.ceil(v)} mins x 2 sets)\n",
    "Triceps stretchs ({math.ceil(v)} mins x 3 sets)\n",
    "Hip flexors ({math.ceil(v)} mins x 3 sets)\n",
    "Calf stretchs ({math.ceil(v)} mins x 3 sets)\n",
    "Lower back stretchs ({math.ceil(v)} mins x 3 sets)''')\n",
    "\n",
    "\n",
    "            elif int(ans3) == 3 :\n",
    "                print(f'''-------------------------------------------------------------------------------------\n",
    "Day {str(n)}  \n",
    "Gym workout for high-intensity exercises\n",
    "\n",
    "Jumping jacks ({math.ceil(t)} reps x 4 sets)\n",
    "Sprints ({math.ceil(t)} reps x 3 sets)\n",
    "Mountain climbers ({math.ceil(t)} reps x 4 sets)\n",
    "Squat jumps ({math.ceil(t)} reps x 4 sets)\n",
    "Lunges ({math.ceil(t)} reps x 3 sets)\n",
    "Crunches ({math.ceil(t)} reps x 3 sets)\n",
    "Treadmill ({math.ceil(s)} mins x 2 sets)\n",
    "Side planks ({math.ceil(s)} reps x 3 sets)\n",
    "Burpees ({math.ceil(s)} reps x 3 sets)''')\n",
    "\n",
    "\n",
    "            elif int(ans3) == 4 :\n",
    "                print(f'''-------------------------------------------------------------------------------------\n",
    "Day {str(n)}  \n",
    "Gym workout for strong legs\n",
    "\n",
    "Back squats ({math.ceil(u)} reps x 5 sets)\n",
    "Hip thrusts ({math.ceil(x)} reps x 3 sets)\n",
    "Overhead presses ({math.ceil(u)} reps x 5 sets)\n",
    "Rack pulls ({math.ceil(u)} reps x 5 sets)\n",
    "Squats ({math.ceil(u)} reps x 4 sets)\n",
    "Dumbbell lunges ({math.ceil(u)} reps x 3 sets)\n",
    "Leg curls ({math.ceil(s)} reps x 3 sets)\n",
    "Standing calf raises ({math.ceil(t)} reps x 2 sets)''')\n",
    "\n",
    "            elif int(ans3) == 5 :\n",
    "                print(f'''-------------------------------------------------------------------------------------\n",
    "Day {str(n)}  \n",
    "Gym workout for strong ABS\n",
    "\n",
    "Cross crunchs ({math.ceil(x)} reps x 3 sets)\n",
    "Knee ups ({math.ceil(s)} reps x 5 sets)\n",
    "Hip thrusts ({math.ceil(s)} reps x 3 sets)\n",
    "Mountain climbers ({math.ceil(s)} reps x 3 sets)\n",
    "Vertical hip thrusts ({math.ceil(x)} reps x 3 sets)\n",
    "Bicycles ({math.ceil(s)} mins x 2 sets)\n",
    "Front planks ({math.ceil(s)} mins x 3 sets)\n",
    "Dragon flags ({math.ceil(x)} reps x 4 sets)\n",
    "Reverse crunches ({math.ceil(u)} reps x 3 sets)''')\n",
    "\n",
    "\n",
    "            elif int(ans3) == 6 :\n",
    "                print(f'''-------------------------------------------------------------------------------------\n",
    "Day {str(n)}\n",
    "Gym workout for strong shoulder and arms\n",
    "\n",
    "Bench presses ({math.ceil(u)} reps x 5 sets)\n",
    "Triceps dips ({math.ceil(u)} reps x 5 sets)\n",
    "Incline dumbbell presses ({math.ceil(x)} reps x 3 sets)\n",
    "dumbbell flyes ({math.ceil(s)} reps x 3 sets)\n",
    "Triceps extensions ({math.ceil(s)} reps x 3 sets)\n",
    "Pull ups ({math.ceil(u)} reps x 5 sets)\n",
    "Treadmill ({math.ceil(s)} mins x 2 sets)\n",
    "Bent over rows ({math.ceil(u)} reps x 5 sets)\n",
    "Chin ups ({math.ceil(u)} reps x 3 sets))''')\n",
    "\n",
    "\n",
    "        elif n % 2 == 0:#you give output based on age and sex on even numbered days  \n",
    "\n",
    "            if int(ans1)<18 and ans2 == \"male\" :\n",
    "                print(f'''-------------------------------------------------------------------------------------\n",
    "Day {str(n)}\n",
    "Gym workout for a male younger than 18 years old\n",
    "\n",
    "High knees ({math.ceil(t)} reps x 3 sets)\n",
    "Squats ({math.ceil(u)} reps x 3 sets)\n",
    "Calf raises ({math.ceil(u)} reps x 3 sets)\n",
    "Scissor jumps ({math.ceil(x)} reps x 3 sets)\n",
    "Burpees ({math.ceil(u)} reps x 3 sets)\n",
    "Treadmill ({math.ceil(u)} mins x 2 sets)''')\n",
    "\n",
    "\n",
    "            elif int(ans1)<18 and ans2 == \"female\" :\n",
    "                print(f'''-------------------------------------------------------------------------------------\n",
    "Day {str(n)} \n",
    "Gym workout for a female younger than 18 years old\n",
    "\n",
    "Squats ({math.ceil(u)} reps x 3 sets)\n",
    "Crunches ({math.ceil(u)} reps x 2 sets)\n",
    "Jumping jacks ({math.ceil(u)} reps x 3 sets)\n",
    "Push ups ({math.ceil(u)} reps x 2 sets)\n",
    "Burpees ({math.ceil(u)} reps x 3 sets)\n",
    "Treadmill ({math.ceil(u)} mins x 2 sets)''')\n",
    "\n",
    "\n",
    "            elif int(ans1)>=18 and ans2 == \"male\" :\n",
    "                print(f'''-------------------------------------------------------------------------------------\n",
    "Day {str(n)}\n",
    "Gym workout for a male at least 18 years old\n",
    "\n",
    "Standing biceps curls ({math.ceil(t)} reps x 3 sets)\n",
    "Seated incline curls ({math.ceil(y)} reps x 3 sets)\n",
    "Seated dumbbell presses ({math.ceil(x)} reps x 3 sets)\n",
    "Leg presses ({math.ceil(s)} reps x 3 sets)\n",
    "Ben(109) INFO1110 1910 9001 – Ed Lessons.htmlch presses ({math.ceil(u)} reps x 4 sets)\n",
    "Tricep kickbacks ({math.ceil(s)} reps x 3 sets)\n",
    "Hip thrusts ({math.ceil(x)} reps x 3 sets)\n",
    "Seated rows ({math.ceil(u)} reps x 4 sets)''')\n",
    "\n",
    "\n",
    "            elif int(ans1)>=18 and ans2 == \"female\" :\n",
    "                print(f'''-------------------------------------------------------------------------------------\n",
    "Day {str(n)}\n",
    "Gym workout for a female at least 18 years old\n",
    "\n",
    "Lateral raises ({math.ceil(s)} reps x 3 sets)\n",
    "Reverse flyes ({math.ceil(x)} reps x 3 sets)\n",
    "Hip thrusts ({math.ceil(x)} reps x 3 sets)\n",
    "Incline dumbbell presses ({math.ceil(s)} reps x 3 sets)\n",
    "Squats ({math.ceil(u)} reps x 4 sets)\n",
    "Dumbbell lunges ({math.ceil(u)} reps x 3 sets)\n",
    "Leg presses ({math.ceil(x)} reps x 3 sets)\n",
    "Dumbbell presses ({math.ceil(u)} reps x 4 sets)''')\n",
    "\n",
    "print(\"-------------------------------------------------------------------------------------\\n\")\n",
    "print(\"Bye \" + ans + \".\")\n",
    "#Resources used\n",
    "#W3schools for syntax of \"while\" and \"try and except\" "
   ]
  },
  {
   "cell_type": "code",
   "execution_count": null,
   "metadata": {
    "vscode": {
     "languageId": "plaintext"
    }
   },
   "outputs": [],
   "source": []
  },
  {
   "cell_type": "code",
   "execution_count": null,
   "metadata": {
    "vscode": {
     "languageId": "plaintext"
    }
   },
   "outputs": [],
   "source": []
  },
  {
   "cell_type": "code",
   "execution_count": null,
   "metadata": {
    "vscode": {
     "languageId": "plaintext"
    }
   },
   "outputs": [],
   "source": []
  },
  {
   "cell_type": "code",
   "execution_count": null,
   "metadata": {
    "vscode": {
     "languageId": "plaintext"
    }
   },
   "outputs": [],
   "source": []
  },
  {
   "cell_type": "code",
   "execution_count": null,
   "metadata": {
    "vscode": {
     "languageId": "plaintext"
    }
   },
   "outputs": [],
   "source": []
  },
  {
   "cell_type": "code",
   "execution_count": null,
   "metadata": {
    "vscode": {
     "languageId": "plaintext"
    }
   },
   "outputs": [],
   "source": []
  }
 ],
 "metadata": {
  "language_info": {
   "name": "python"
  },
  "orig_nbformat": 4
 },
 "nbformat": 4,
 "nbformat_minor": 2
}
